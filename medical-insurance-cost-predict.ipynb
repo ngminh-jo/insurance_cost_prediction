{
 "cells": [
  {
   "cell_type": "markdown",
   "metadata": {
    "_uuid": "ac6edec448be6105bb77bcf0ffda8f5290e31c47"
   },
   "source": [
    "## Introduction\n",
    "\n",
    "\n",
    "In this project I will apply regression techniques of supervised learning to predict the medical insurance costs. \n",
    "In regression, learning algorithms maps the input data to continuous output like weight, cost, etc.\n",
    "Supervised machine learning algorithms seek to approximate the unknown underlying mapping function for the output variables given the input variables."
   ]
  },
  {
   "cell_type": "code",
   "execution_count": 1,
   "metadata": {
    "_uuid": "3e967291f0df943d34ade0d355c93ff2efe817b3"
   },
   "outputs": [
    {
     "name": "stdout",
     "output_type": "stream",
     "text": [
      "<class 'pandas.core.frame.DataFrame'>\n",
      "RangeIndex: 1338 entries, 0 to 1337\n",
      "Data columns (total 7 columns):\n",
      " #   Column    Non-Null Count  Dtype  \n",
      "---  ------    --------------  -----  \n",
      " 0   age       1338 non-null   int64  \n",
      " 1   sex       1338 non-null   object \n",
      " 2   bmi       1338 non-null   float64\n",
      " 3   children  1338 non-null   int64  \n",
      " 4   smoker    1338 non-null   object \n",
      " 5   region    1338 non-null   object \n",
      " 6   charges   1338 non-null   float64\n",
      "dtypes: float64(2), int64(2), object(3)\n",
      "memory usage: 73.3+ KB\n",
      "None\n",
      "   age     sex     bmi  children smoker     region      charges\n",
      "0   19  female  27.900         0    yes  southwest  16884.92400\n",
      "1   18    male  33.770         1     no  southeast   1725.55230\n",
      "2   28    male  33.000         3     no  southeast   4449.46200\n",
      "3   33    male  22.705         0     no  northwest  21984.47061\n",
      "4   32    male  28.880         0     no  northwest   3866.85520\n",
      "------------------------------------------------------------------------------------------\n",
      "Successfully imported Insurance data. Data has 1338 data points with 7 variables each.\n"
     ]
    }
   ],
   "source": [
    "# Import libraries necessary for this project\n",
    "import numpy as np\n",
    "import pandas as pd\n",
    "import matplotlib.pyplot as plt\n",
    "import seaborn as sns\n",
    "import warnings\n",
    "warnings.filterwarnings(\"ignore\")\n",
    "data = pd.read_csv('insurance.csv')\n",
    "\n",
    "print (data.info())\n",
    "print (data.head(5))\n",
    "print ('-'*90)\n",
    "print (\"Successfully imported Insurance data. Data has {} data points with {} variables each.\".format(*data.shape))"
   ]
  },
  {
   "cell_type": "markdown",
   "metadata": {},
   "source": [
    "Check for missing value"
   ]
  },
  {
   "cell_type": "code",
   "execution_count": 2,
   "metadata": {},
   "outputs": [
    {
     "data": {
      "image/png": "[encoded data removed]",
      "text/plain": [
       "<Figure size 864x288 with 1 Axes>"
      ]
     },
     "metadata": {
      "needs_background": "light"
     },
     "output_type": "display_data"
    }
   ],
   "source": [
    "plt.figure(figsize=(12,4))\n",
    "sns.heatmap(data.isnull(),cbar=False,cmap='viridis',yticklabels=False)\n",
    "plt.title('Missing value in the dataset');\n"
   ]
  },
  {
   "cell_type": "markdown",
   "metadata": {},
   "source": [
    "There is no missing value in the data set"
   ]
  },
  {
   "cell_type": "markdown",
   "metadata": {
    "_uuid": "611bb518f6d6d4d2ad2462bd25e5df3f2afe9559",
    "slideshow": {
     "slide_type": "notes"
    }
   },
   "source": [
    "## Data Exploration\n",
    "Dataset consists of 1338 records. Each record contains the below data for specific person.\n",
    "- age – Age of the person\n",
    "- sex – Sex of the person\n",
    "- bmi – Body Mass Index(BMI) of the person\n",
    "- children – Number of children for the person\n",
    "- smoker – Smoking status of the person\n",
    "- region – Region of the person in US\n",
    "- charges – Medical Insurance costs per year for the person\n",
    "\n",
    "Turning Age, BMI into Categorical Variables"
   ]
  },
  {
   "cell_type": "code",
   "execution_count": 3,
   "metadata": {
    "_uuid": "c7a223f92842fd4bab4558a431403b51184b4f74"
   },
   "outputs": [
    {
     "name": "stdout",
     "output_type": "stream",
     "text": [
      "cage\n",
      "10-19    137\n",
      "20-29    280\n",
      "30-39    257\n",
      "40-49    279\n",
      "50-59    271\n",
      "60-69    114\n",
      "dtype: int64\n",
      "--------------------------------------------------------------------------------\n",
      "sex\n",
      "female    662\n",
      "male      676\n",
      "dtype: int64\n",
      "--------------------------------------------------------------------------------\n",
      "smoker\n",
      "no     1064\n",
      "yes     274\n",
      "dtype: int64\n",
      "--------------------------------------------------------------------------------\n",
      "region\n",
      "northeast    324\n",
      "northwest    325\n",
      "southeast    364\n",
      "southwest    325\n",
      "dtype: int64\n",
      "--------------------------------------------------------------------------------\n",
      "children\n",
      "0    574\n",
      "1    324\n",
      "2    240\n",
      "3    157\n",
      "4     25\n",
      "5     18\n",
      "dtype: int64\n",
      "--------------------------------------------------------------------------------\n",
      "cbmi\n",
      "normal-weight    222\n",
      "obese            705\n",
      "over-weight      380\n",
      "under-weight      20\n",
      "dtype: int64\n",
      "--------------------------------------------------------------------------------\n"
     ]
    }
   ],
   "source": [
    "def bmi_category(bmi):\n",
    "    if bmi < 18.5:\n",
    "        return 'under-weight'\n",
    "    elif bmi >= 18.5 and bmi <= 24.9:\n",
    "        return 'normal-weight'\n",
    "    elif bmi >= 24 and bmi <= 29.9:\n",
    "        return 'over-weight'\n",
    "    elif bmi > 30.0:\n",
    "        return \"obese\"\n",
    "    \n",
    "def age_category(age):\n",
    "    age_dict = {\n",
    "        0: '0-9',\n",
    "        1: '10-19',\n",
    "        2: '20-29',\n",
    "        3: '30-39',\n",
    "        4: '40-49',\n",
    "        5: '50-59',\n",
    "        6: '60-69',\n",
    "        7: '70-79',\n",
    "        8: '80-89',\n",
    "        9: '90-99',\n",
    "        10: '100-200'\n",
    "    }\n",
    "    return age_dict[age//10]\n",
    "    \n",
    "data['cbmi'] = data['bmi'].apply(lambda x: \"none\")\n",
    "data['cage'] = data['age'].apply(lambda x: \"none\")\n",
    "\n",
    "for idx, row in data.iterrows():\n",
    "    data.at[idx, 'cage'] = age_category(row['age'])\n",
    "    data.at[idx, 'cbmi'] = bmi_category(row['bmi'])\n",
    "    \n",
    "by_age = data.groupby(by='cage').size()\n",
    "print (by_age)\n",
    "print ('-'*80)\n",
    "\n",
    "by_sex = data.groupby(by='sex').size()\n",
    "print (by_sex)\n",
    "print ('-'*80)\n",
    "\n",
    "by_smoker = data.groupby(by='smoker').size()\n",
    "print (by_smoker)\n",
    "print ('-'*80)\n",
    "\n",
    "by_region = data.groupby(by='region').size()\n",
    "print (by_region)\n",
    "print ('-'*80)\n",
    "\n",
    "by_children = data.groupby(by='children').size()\n",
    "print (by_children)\n",
    "print ('-'*80)\n",
    "\n",
    "by_bmi = data.groupby(by='cbmi').size()\n",
    "print (by_bmi)\n",
    "print ('-'*80)"
   ]
  },
  {
   "cell_type": "code",
   "execution_count": 4,
   "metadata": {},
   "outputs": [
    {
     "data": {
      "text/html": [
       "<div>\n",
       "<style scoped>\n",
       "    .dataframe tbody tr th:only-of-type {\n",
       "        vertical-align: middle;\n",
       "    }\n",
       "\n",
       "    .dataframe tbody tr th {\n",
       "        vertical-align: top;\n",
       "    }\n",
       "\n",
       "    .dataframe thead th {\n",
       "        text-align: right;\n",
       "    }\n",
       "</style>\n",
       "<table border=\"1\" class=\"dataframe\">\n",
       "  <thead>\n",
       "    <tr style=\"text-align: right;\">\n",
       "      <th></th>\n",
       "      <th>age</th>\n",
       "      <th>sex</th>\n",
       "      <th>bmi</th>\n",
       "      <th>children</th>\n",
       "      <th>smoker</th>\n",
       "      <th>region</th>\n",
       "      <th>charges</th>\n",
       "      <th>cbmi</th>\n",
       "      <th>cage</th>\n",
       "    </tr>\n",
       "  </thead>\n",
       "  <tbody>\n",
       "    <tr>\n",
       "      <th>0</th>\n",
       "      <td>19</td>\n",
       "      <td>female</td>\n",
       "      <td>27.900</td>\n",
       "      <td>0</td>\n",
       "      <td>yes</td>\n",
       "      <td>southwest</td>\n",
       "      <td>16884.92400</td>\n",
       "      <td>over-weight</td>\n",
       "      <td>10-19</td>\n",
       "    </tr>\n",
       "    <tr>\n",
       "      <th>1</th>\n",
       "      <td>18</td>\n",
       "      <td>male</td>\n",
       "      <td>33.770</td>\n",
       "      <td>1</td>\n",
       "      <td>no</td>\n",
       "      <td>southeast</td>\n",
       "      <td>1725.55230</td>\n",
       "      <td>obese</td>\n",
       "      <td>10-19</td>\n",
       "    </tr>\n",
       "    <tr>\n",
       "      <th>2</th>\n",
       "      <td>28</td>\n",
       "      <td>male</td>\n",
       "      <td>33.000</td>\n",
       "      <td>3</td>\n",
       "      <td>no</td>\n",
       "      <td>southeast</td>\n",
       "      <td>4449.46200</td>\n",
       "      <td>obese</td>\n",
       "      <td>20-29</td>\n",
       "    </tr>\n",
       "    <tr>\n",
       "      <th>3</th>\n",
       "      <td>33</td>\n",
       "      <td>male</td>\n",
       "      <td>22.705</td>\n",
       "      <td>0</td>\n",
       "      <td>no</td>\n",
       "      <td>northwest</td>\n",
       "      <td>21984.47061</td>\n",
       "      <td>normal-weight</td>\n",
       "      <td>30-39</td>\n",
       "    </tr>\n",
       "    <tr>\n",
       "      <th>4</th>\n",
       "      <td>32</td>\n",
       "      <td>male</td>\n",
       "      <td>28.880</td>\n",
       "      <td>0</td>\n",
       "      <td>no</td>\n",
       "      <td>northwest</td>\n",
       "      <td>3866.85520</td>\n",
       "      <td>over-weight</td>\n",
       "      <td>30-39</td>\n",
       "    </tr>\n",
       "    <tr>\n",
       "      <th>...</th>\n",
       "      <td>...</td>\n",
       "      <td>...</td>\n",
       "      <td>...</td>\n",
       "      <td>...</td>\n",
       "      <td>...</td>\n",
       "      <td>...</td>\n",
       "      <td>...</td>\n",
       "      <td>...</td>\n",
       "      <td>...</td>\n",
       "    </tr>\n",
       "    <tr>\n",
       "      <th>1333</th>\n",
       "      <td>50</td>\n",
       "      <td>male</td>\n",
       "      <td>30.970</td>\n",
       "      <td>3</td>\n",
       "      <td>no</td>\n",
       "      <td>northwest</td>\n",
       "      <td>10600.54830</td>\n",
       "      <td>obese</td>\n",
       "      <td>50-59</td>\n",
       "    </tr>\n",
       "    <tr>\n",
       "      <th>1334</th>\n",
       "      <td>18</td>\n",
       "      <td>female</td>\n",
       "      <td>31.920</td>\n",
       "      <td>0</td>\n",
       "      <td>no</td>\n",
       "      <td>northeast</td>\n",
       "      <td>2205.98080</td>\n",
       "      <td>obese</td>\n",
       "      <td>10-19</td>\n",
       "    </tr>\n",
       "    <tr>\n",
       "      <th>1335</th>\n",
       "      <td>18</td>\n",
       "      <td>female</td>\n",
       "      <td>36.850</td>\n",
       "      <td>0</td>\n",
       "      <td>no</td>\n",
       "      <td>southeast</td>\n",
       "      <td>1629.83350</td>\n",
       "      <td>obese</td>\n",
       "      <td>10-19</td>\n",
       "    </tr>\n",
       "    <tr>\n",
       "      <th>1336</th>\n",
       "      <td>21</td>\n",
       "      <td>female</td>\n",
       "      <td>25.800</td>\n",
       "      <td>0</td>\n",
       "      <td>no</td>\n",
       "      <td>southwest</td>\n",
       "      <td>2007.94500</td>\n",
       "      <td>over-weight</td>\n",
       "      <td>20-29</td>\n",
       "    </tr>\n",
       "    <tr>\n",
       "      <th>1337</th>\n",
       "      <td>61</td>\n",
       "      <td>female</td>\n",
       "      <td>29.070</td>\n",
       "      <td>0</td>\n",
       "      <td>yes</td>\n",
       "      <td>northwest</td>\n",
       "      <td>29141.36030</td>\n",
       "      <td>over-weight</td>\n",
       "      <td>60-69</td>\n",
       "    </tr>\n",
       "  </tbody>\n",
       "</table>\n",
       "<p>1338 rows × 9 columns</p>\n",
       "</div>"
      ],
      "text/plain": [
       "      age     sex     bmi  children smoker     region      charges  \\\n",
       "0      19  female  27.900         0    yes  southwest  16884.92400   \n",
       "1      18    male  33.770         1     no  southeast   1725.55230   \n",
       "2      28    male  33.000         3     no  southeast   4449.46200   \n",
       "3      33    male  22.705         0     no  northwest  21984.47061   \n",
       "4      32    male  28.880         0     no  northwest   3866.85520   \n",
       "...   ...     ...     ...       ...    ...        ...          ...   \n",
       "1333   50    male  30.970         3     no  northwest  10600.54830   \n",
       "1334   18  female  31.920         0     no  northeast   2205.98080   \n",
       "1335   18  female  36.850         0     no  southeast   1629.83350   \n",
       "1336   21  female  25.800         0     no  southwest   2007.94500   \n",
       "1337   61  female  29.070         0    yes  northwest  29141.36030   \n",
       "\n",
       "               cbmi   cage  \n",
       "0       over-weight  10-19  \n",
       "1             obese  10-19  \n",
       "2             obese  20-29  \n",
       "3     normal-weight  30-39  \n",
       "4       over-weight  30-39  \n",
       "...             ...    ...  \n",
       "1333          obese  50-59  \n",
       "1334          obese  10-19  \n",
       "1335          obese  10-19  \n",
       "1336    over-weight  20-29  \n",
       "1337    over-weight  60-69  \n",
       "\n",
       "[1338 rows x 9 columns]"
      ]
     },
     "execution_count": 4,
     "metadata": {},
     "output_type": "execute_result"
    }
   ],
   "source": [
    "data"
   ]
  },
  {
   "cell_type": "markdown",
   "metadata": {
    "_uuid": "1cd0c047ffd24bd2babf325b131cdefff395293d"
   },
   "source": [
    "To understand correlation between the input or the independent variables, I classified the ages and BMI into specific categories. \n",
    "The above analysis shows the stats like number of male and female, smokers and non-smokers, etc. from the input data.  \n",
    "Taking the BMI ranges from Medline Plus, I categorized the input samples into `below-weight`, `normal-weight`, `over-weight` and `obese`.\n",
    "\n",
    "From the above data we can observe below\n",
    "- Input data contains an even distribution of male and female samples\n",
    "- Majority of them are non-smokers with 1064 samples\n",
    "- Majority of the samples are in age groups 20-29 and 40- 49 with the numbers 280 and 279 respectively.\n",
    "- A major sample of input data contains persons with no children with 574.\n",
    "- The data is evenly distributed across 4 regions with the region of `southeast` having slightly more samples.\n",
    "- Majority the sample fall under the category of `obese`"
   ]
  },
  {
   "cell_type": "code",
   "execution_count": 5,
   "metadata": {
    "_uuid": "0b3ed2d337afa0ded87857b63a12439149979c63"
   },
   "outputs": [
    {
     "name": "stdout",
     "output_type": "stream",
     "text": [
      "Data distribution analysys\n"
     ]
    },
    {
     "data": {
      "image/png": "[encoded data removed]",
      "text/plain": [
       "<Figure size 432x288 with 1 Axes>"
      ]
     },
     "metadata": {
      "needs_background": "light"
     },
     "output_type": "display_data"
    },
    {
     "data": {
      "image/png": "[encoded data removed]",
      "text/plain": [
       "<Figure size 432x288 with 1 Axes>"
      ]
     },
     "metadata": {
      "needs_background": "light"
     },
     "output_type": "display_data"
    },
    {
     "data": {
      "image/png": "[encoded data removed]",
      "text/plain": [
       "<Figure size 432x288 with 1 Axes>"
      ]
     },
     "metadata": {
      "needs_background": "light"
     },
     "output_type": "display_data"
    },
    {
     "data": {
      "image/png": "[encoded data removed]",
      "text/plain": [
       "<Figure size 432x288 with 1 Axes>"
      ]
     },
     "metadata": {
      "needs_background": "light"
     },
     "output_type": "display_data"
    },
    {
     "data": {
      "image/png": "[encoded data removed]",
      "text/plain": [
       "<Figure size 432x288 with 1 Axes>"
      ]
     },
     "metadata": {
      "needs_background": "light"
     },
     "output_type": "display_data"
    },
    {
     "data": {
      "image/png": "[encoded data removed]",
      "text/plain": [
       "<Figure size 432x288 with 1 Axes>"
      ]
     },
     "metadata": {
      "needs_background": "light"
     },
     "output_type": "display_data"
    }
   ],
   "source": [
    "import seaborn as sns\n",
    "from matplotlib import pyplot as plt\n",
    "%matplotlib inline\n",
    "\n",
    "variables = ['sex','smoker','region','cage','cbmi','children']\n",
    "\n",
    "# data distribution analysys\n",
    "print('Data distribution analysys')\n",
    "for v in variables:\n",
    "    data = data.sort_values(by=[v])\n",
    "    data[v].value_counts().plot(kind = 'bar')\n",
    "    plt.title(v)\n",
    "    plt.show()"
   ]
  },
  {
   "cell_type": "code",
   "execution_count": 6,
   "metadata": {
    "_uuid": "3675cbf8c938ed3e7b3958da3bd29b43eb0977cb"
   },
   "outputs": [
    {
     "name": "stdout",
     "output_type": "stream",
     "text": [
      "Mean cost analysys:\n"
     ]
    },
    {
     "data": {
      "image/png": "[encoded data removed]",
      "text/plain": [
       "<Figure size 432x288 with 1 Axes>"
      ]
     },
     "metadata": {
      "needs_background": "light"
     },
     "output_type": "display_data"
    },
    {
     "data": {
      "image/png": "[encoded data removed]",
      "text/plain": [
       "<Figure size 432x288 with 1 Axes>"
      ]
     },
     "metadata": {
      "needs_background": "light"
     },
     "output_type": "display_data"
    },
    {
     "data": {
      "image/png": "[encoded data removed]",
      "text/plain": [
       "<Figure size 432x288 with 1 Axes>"
      ]
     },
     "metadata": {
      "needs_background": "light"
     },
     "output_type": "display_data"
    },
    {
     "data": {
      "image/png": "[encoded data removed]",
      "text/plain": [
       "<Figure size 432x288 with 1 Axes>"
      ]
     },
     "metadata": {
      "needs_background": "light"
     },
     "output_type": "display_data"
    },
    {
     "data": {
      "image/png": "[encoded data removed]",
      "text/plain": [
       "<Figure size 432x288 with 1 Axes>"
      ]
     },
     "metadata": {
      "needs_background": "light"
     },
     "output_type": "display_data"
    },
    {
     "data": {
      "image/png": "[encoded data removed]",
      "text/plain": [
       "<Figure size 432x288 with 1 Axes>"
      ]
     },
     "metadata": {
      "needs_background": "light"
     },
     "output_type": "display_data"
    }
   ],
   "source": [
    "print('Mean cost analysys:')\n",
    "for v in variables:\n",
    "    group_df = data.groupby(pd.Grouper(key=v)).mean()\n",
    "    group_df = group_df.sort_index()\n",
    "    group_df.plot(y = ['charges'],kind = 'bar')\n",
    "    plt.show()"
   ]
  },
  {
   "cell_type": "markdown",
   "metadata": {
    "_uuid": "cbc984a6c1ad6fb05c3b82fc3d0564e4968438f3"
   },
   "source": [
    "From the above bar graphs, we can deduce the below facts.\n",
    "- Insurance costs are higher among male population\n",
    "- Insurance costs are highest among the population of age groups 60-69.\n",
    "- Insurance costs increases among the smokers\n",
    "- Insurance costs increases among the obese population\n",
    "- Insurance costs are higher among the population in southwest region\n",
    "- Surprisingly, insurance costs are higher among the individuals with 2 or 3 children rather than with individuals with 4 or 5 children.\n"
   ]
  },
  {
   "cell_type": "code",
   "execution_count": 7,
   "metadata": {
    "_uuid": "3c8aa127d41e62e647783bbcfab0829f23ff83cb"
   },
   "outputs": [
    {
     "data": {
      "image/png": "[encoded data removed]",
      "text/plain": [
       "<Figure size 432x288 with 2 Axes>"
      ]
     },
     "metadata": {
      "needs_background": "light"
     },
     "output_type": "display_data"
    }
   ],
   "source": [
    "# correlation plot\n",
    "corr = data.corr()\n",
    "sns.heatmap(corr, cmap = 'Wistia', annot= True);\n"
   ]
  },
  {
   "cell_type": "markdown",
   "metadata": {},
   "source": [
    "There no correlation among valiables."
   ]
  },
  {
   "cell_type": "code",
   "execution_count": 8,
   "metadata": {},
   "outputs": [
    {
     "data": {
      "image/png": "[encoded data removed]",
      "text/plain": [
       "<Figure size 1008x432 with 2 Axes>"
      ]
     },
     "metadata": {
      "needs_background": "light"
     },
     "output_type": "display_data"
    }
   ],
   "source": [
    "f = plt.figure(figsize=(14,6))\n",
    "ax = f.add_subplot(121)\n",
    "sns.violinplot(x='sex', y='charges',data=data,palette='Wistia',ax=ax)\n",
    "ax.set_title('Violin plot of Charges vs sex')\n",
    "\n",
    "ax = f.add_subplot(122)\n",
    "sns.violinplot(x='smoker', y='charges',data=data,palette='magma',ax=ax)\n",
    "ax.set_title('Violin plot of Charges vs smoker');\n"
   ]
  },
  {
   "cell_type": "markdown",
   "metadata": {},
   "source": [
    "From left plot the insurance charge for male and female is approximatley in same range,it is average around 5000 bucks. In right plot the insurance charge for smokers is much wide range compare to non smokers, the average charges for non smoker is approximately 5000 bucks. For smoker the minimum insurance charge is itself 5000 bucks."
   ]
  },
  {
   "cell_type": "code",
   "execution_count": 9,
   "metadata": {},
   "outputs": [
    {
     "data": {
      "image/png": "[encoded data removed]",
      "text/plain": [
       "<Figure size 864x288 with 2 Axes>"
      ]
     },
     "metadata": {
      "needs_background": "light"
     },
     "output_type": "display_data"
    }
   ],
   "source": [
    "f= plt.figure(figsize=(12,4))\n",
    "\n",
    "ax=f.add_subplot(121)\n",
    "sns.distplot(data['charges'],bins=50,color='r',ax=ax)\n",
    "ax.set_title('Distribution of insurance charges')\n",
    "\n",
    "ax=f.add_subplot(122)\n",
    "sns.distplot(np.log10(data['charges']),bins=40,color='b',ax=ax)\n",
    "ax.set_title('Distribution of insurance charges in $log$ sacle')\n",
    "ax.set_xscale('log');"
   ]
  },
  {
   "cell_type": "markdown",
   "metadata": {},
   "source": [
    "If we look at the left plot the charges varies from 1120 to 63500, the plot is right skewed. In right plot we will apply natural log, then plot approximately tends to normal. for further analysis we will apply log on target variable charges."
   ]
  },
  {
   "cell_type": "markdown",
   "metadata": {
    "_uuid": "d6d10281716afede1e1a283f036da8e1ab758ae2"
   },
   "source": [
    "### Implementation: Calculate Statistics\n",
    "I explored the descriptive statistics about the insurance costs."
   ]
  },
  {
   "cell_type": "code",
   "execution_count": 10,
   "metadata": {
    "_uuid": "12302bdda255ff1511189df85555afc152d4d9a5"
   },
   "outputs": [
    {
     "name": "stdout",
     "output_type": "stream",
     "text": [
      "count     1338.000000\n",
      "mean     13270.422265\n",
      "std      12110.011237\n",
      "min       1121.873900\n",
      "25%       4740.287150\n",
      "50%       9382.033000\n",
      "75%      16639.912515\n",
      "max      63770.428010\n",
      "Name: charges, dtype: float64\n",
      "------------------------------------------------------------------------------------------\n",
      "Statistics for Medical Insurance dataset:\n",
      "\n",
      "Minimum insurance cost: $1,121.87\n",
      "Maximum insurance acost: $63,770.43\n",
      "Mean insurance cost: $13,270.42\n",
      "Median insurance cost $9,382.03\n",
      "Standard deviation of insurance costs: $12,105.48\n"
     ]
    }
   ],
   "source": [
    "target = data['charges']\n",
    "min_cost = np.min(target)\n",
    "max_cost = np.max(target)\n",
    "mean_cost = np.mean(target)\n",
    "median_cost = np.median(target)\n",
    "std_cost = np.std(target)\n",
    "\n",
    "print (target.describe())\n",
    "print ('-'*90)\n",
    "# calculated statistics\n",
    "print (\"Statistics for Medical Insurance dataset:\\n\")\n",
    "print (\"Minimum insurance cost: ${:,.2f}\".format(min_cost))\n",
    "print (\"Maximum insurance acost: ${:,.2f}\".format(max_cost))\n",
    "print (\"Mean insurance cost: ${:,.2f}\".format(mean_cost))\n",
    "print (\"Median insurance cost ${:,.2f}\".format(median_cost))\n",
    "print (\"Standard deviation of insurance costs: ${:,.2f}\".format(std_cost))"
   ]
  },
  {
   "cell_type": "markdown",
   "metadata": {},
   "source": [
    "### Data Preprocessing\n",
    "Encoding\n",
    "Machine learning algorithms cannot work with categorical data directly, categorical data must be converted to number.\n",
    "\n",
    "Label Encoding\n",
    "One hot encoding\n",
    "Dummy variable trap\n",
    "Label encoding refers to transforming the word labels into numerical form so that the algorithms can understand how to operate on them.\n",
    "\n",
    "A One hot encoding is a representation of categorical variable as binary vectors. It allows the representation of categorical data to be more expresive. This first requires that the categorical values be mapped to integer values, that is label encoding. Then, each integer value is represented as a binary vector that is all zero values except the index of the integer, which is marked with a 1.\n",
    "\n",
    "The Dummy variable trap is a scenario in which the independent variable are multicollinear, a scenario in which two or more variables are highly correlated in simple term one variable can be predicted from the others."
   ]
  },
  {
   "cell_type": "code",
   "execution_count": 11,
   "metadata": {},
   "outputs": [],
   "source": [
    "data = pd.read_csv('insurance.csv')"
   ]
  },
  {
   "cell_type": "code",
   "execution_count": 13,
   "metadata": {
    "_uuid": "fdef1a47512bfe266d19ab2f7d81fe3fc9b408e5"
   },
   "outputs": [],
   "source": [
    "# Dummy variable\n",
    "categorical_columns = ['sex','children', 'smoker', 'region']\n",
    "data_encode = pd.get_dummies(data = data, prefix = 'OHE', prefix_sep='_',\n",
    "               columns = categorical_columns,\n",
    "               drop_first =True,\n",
    "              dtype='int8')"
   ]
  },
  {
   "cell_type": "markdown",
   "metadata": {},
   "source": [
    "As we mention before we will apply log on target variable charges to transform non-normal dependent variables into a normal shape for model developing, because normality is an important assumption for many statistical techniques"
   ]
  },
  {
   "cell_type": "code",
   "execution_count": 14,
   "metadata": {},
   "outputs": [],
   "source": [
    "## Log transform\n",
    "data_encode['charges'] = np.log(data_encode['charges'])"
   ]
  },
  {
   "cell_type": "code",
   "execution_count": 15,
   "metadata": {
    "scrolled": true
   },
   "outputs": [
    {
     "data": {
      "text/html": [
       "<div>\n",
       "<style scoped>\n",
       "    .dataframe tbody tr th:only-of-type {\n",
       "        vertical-align: middle;\n",
       "    }\n",
       "\n",
       "    .dataframe tbody tr th {\n",
       "        vertical-align: top;\n",
       "    }\n",
       "\n",
       "    .dataframe thead th {\n",
       "        text-align: right;\n",
       "    }\n",
       "</style>\n",
       "<table border=\"1\" class=\"dataframe\">\n",
       "  <thead>\n",
       "    <tr style=\"text-align: right;\">\n",
       "      <th></th>\n",
       "      <th>age</th>\n",
       "      <th>bmi</th>\n",
       "      <th>charges</th>\n",
       "      <th>OHE_male</th>\n",
       "      <th>OHE_1</th>\n",
       "      <th>OHE_2</th>\n",
       "      <th>OHE_3</th>\n",
       "      <th>OHE_4</th>\n",
       "      <th>OHE_5</th>\n",
       "      <th>OHE_yes</th>\n",
       "      <th>OHE_northwest</th>\n",
       "      <th>OHE_southeast</th>\n",
       "      <th>OHE_southwest</th>\n",
       "    </tr>\n",
       "  </thead>\n",
       "  <tbody>\n",
       "    <tr>\n",
       "      <th>0</th>\n",
       "      <td>19</td>\n",
       "      <td>27.900</td>\n",
       "      <td>9.734176</td>\n",
       "      <td>0</td>\n",
       "      <td>0</td>\n",
       "      <td>0</td>\n",
       "      <td>0</td>\n",
       "      <td>0</td>\n",
       "      <td>0</td>\n",
       "      <td>1</td>\n",
       "      <td>0</td>\n",
       "      <td>0</td>\n",
       "      <td>1</td>\n",
       "    </tr>\n",
       "    <tr>\n",
       "      <th>1</th>\n",
       "      <td>18</td>\n",
       "      <td>33.770</td>\n",
       "      <td>7.453302</td>\n",
       "      <td>1</td>\n",
       "      <td>1</td>\n",
       "      <td>0</td>\n",
       "      <td>0</td>\n",
       "      <td>0</td>\n",
       "      <td>0</td>\n",
       "      <td>0</td>\n",
       "      <td>0</td>\n",
       "      <td>1</td>\n",
       "      <td>0</td>\n",
       "    </tr>\n",
       "    <tr>\n",
       "      <th>2</th>\n",
       "      <td>28</td>\n",
       "      <td>33.000</td>\n",
       "      <td>8.400538</td>\n",
       "      <td>1</td>\n",
       "      <td>0</td>\n",
       "      <td>0</td>\n",
       "      <td>1</td>\n",
       "      <td>0</td>\n",
       "      <td>0</td>\n",
       "      <td>0</td>\n",
       "      <td>0</td>\n",
       "      <td>1</td>\n",
       "      <td>0</td>\n",
       "    </tr>\n",
       "    <tr>\n",
       "      <th>3</th>\n",
       "      <td>33</td>\n",
       "      <td>22.705</td>\n",
       "      <td>9.998092</td>\n",
       "      <td>1</td>\n",
       "      <td>0</td>\n",
       "      <td>0</td>\n",
       "      <td>0</td>\n",
       "      <td>0</td>\n",
       "      <td>0</td>\n",
       "      <td>0</td>\n",
       "      <td>1</td>\n",
       "      <td>0</td>\n",
       "      <td>0</td>\n",
       "    </tr>\n",
       "    <tr>\n",
       "      <th>4</th>\n",
       "      <td>32</td>\n",
       "      <td>28.880</td>\n",
       "      <td>8.260197</td>\n",
       "      <td>1</td>\n",
       "      <td>0</td>\n",
       "      <td>0</td>\n",
       "      <td>0</td>\n",
       "      <td>0</td>\n",
       "      <td>0</td>\n",
       "      <td>0</td>\n",
       "      <td>1</td>\n",
       "      <td>0</td>\n",
       "      <td>0</td>\n",
       "    </tr>\n",
       "    <tr>\n",
       "      <th>...</th>\n",
       "      <td>...</td>\n",
       "      <td>...</td>\n",
       "      <td>...</td>\n",
       "      <td>...</td>\n",
       "      <td>...</td>\n",
       "      <td>...</td>\n",
       "      <td>...</td>\n",
       "      <td>...</td>\n",
       "      <td>...</td>\n",
       "      <td>...</td>\n",
       "      <td>...</td>\n",
       "      <td>...</td>\n",
       "      <td>...</td>\n",
       "    </tr>\n",
       "    <tr>\n",
       "      <th>1333</th>\n",
       "      <td>50</td>\n",
       "      <td>30.970</td>\n",
       "      <td>9.268661</td>\n",
       "      <td>1</td>\n",
       "      <td>0</td>\n",
       "      <td>0</td>\n",
       "      <td>1</td>\n",
       "      <td>0</td>\n",
       "      <td>0</td>\n",
       "      <td>0</td>\n",
       "      <td>1</td>\n",
       "      <td>0</td>\n",
       "      <td>0</td>\n",
       "    </tr>\n",
       "    <tr>\n",
       "      <th>1334</th>\n",
       "      <td>18</td>\n",
       "      <td>31.920</td>\n",
       "      <td>7.698927</td>\n",
       "      <td>0</td>\n",
       "      <td>0</td>\n",
       "      <td>0</td>\n",
       "      <td>0</td>\n",
       "      <td>0</td>\n",
       "      <td>0</td>\n",
       "      <td>0</td>\n",
       "      <td>0</td>\n",
       "      <td>0</td>\n",
       "      <td>0</td>\n",
       "    </tr>\n",
       "    <tr>\n",
       "      <th>1335</th>\n",
       "      <td>18</td>\n",
       "      <td>36.850</td>\n",
       "      <td>7.396233</td>\n",
       "      <td>0</td>\n",
       "      <td>0</td>\n",
       "      <td>0</td>\n",
       "      <td>0</td>\n",
       "      <td>0</td>\n",
       "      <td>0</td>\n",
       "      <td>0</td>\n",
       "      <td>0</td>\n",
       "      <td>1</td>\n",
       "      <td>0</td>\n",
       "    </tr>\n",
       "    <tr>\n",
       "      <th>1336</th>\n",
       "      <td>21</td>\n",
       "      <td>25.800</td>\n",
       "      <td>7.604867</td>\n",
       "      <td>0</td>\n",
       "      <td>0</td>\n",
       "      <td>0</td>\n",
       "      <td>0</td>\n",
       "      <td>0</td>\n",
       "      <td>0</td>\n",
       "      <td>0</td>\n",
       "      <td>0</td>\n",
       "      <td>0</td>\n",
       "      <td>1</td>\n",
       "    </tr>\n",
       "    <tr>\n",
       "      <th>1337</th>\n",
       "      <td>61</td>\n",
       "      <td>29.070</td>\n",
       "      <td>10.279914</td>\n",
       "      <td>0</td>\n",
       "      <td>0</td>\n",
       "      <td>0</td>\n",
       "      <td>0</td>\n",
       "      <td>0</td>\n",
       "      <td>0</td>\n",
       "      <td>1</td>\n",
       "      <td>1</td>\n",
       "      <td>0</td>\n",
       "      <td>0</td>\n",
       "    </tr>\n",
       "  </tbody>\n",
       "</table>\n",
       "<p>1338 rows × 13 columns</p>\n",
       "</div>"
      ],
      "text/plain": [
       "      age     bmi    charges  OHE_male  OHE_1  OHE_2  OHE_3  OHE_4  OHE_5  \\\n",
       "0      19  27.900   9.734176         0      0      0      0      0      0   \n",
       "1      18  33.770   7.453302         1      1      0      0      0      0   \n",
       "2      28  33.000   8.400538         1      0      0      1      0      0   \n",
       "3      33  22.705   9.998092         1      0      0      0      0      0   \n",
       "4      32  28.880   8.260197         1      0      0      0      0      0   \n",
       "...   ...     ...        ...       ...    ...    ...    ...    ...    ...   \n",
       "1333   50  30.970   9.268661         1      0      0      1      0      0   \n",
       "1334   18  31.920   7.698927         0      0      0      0      0      0   \n",
       "1335   18  36.850   7.396233         0      0      0      0      0      0   \n",
       "1336   21  25.800   7.604867         0      0      0      0      0      0   \n",
       "1337   61  29.070  10.279914         0      0      0      0      0      0   \n",
       "\n",
       "      OHE_yes  OHE_northwest  OHE_southeast  OHE_southwest  \n",
       "0           1              0              0              1  \n",
       "1           0              0              1              0  \n",
       "2           0              0              1              0  \n",
       "3           0              1              0              0  \n",
       "4           0              1              0              0  \n",
       "...       ...            ...            ...            ...  \n",
       "1333        0              1              0              0  \n",
       "1334        0              0              0              0  \n",
       "1335        0              0              1              0  \n",
       "1336        0              0              0              1  \n",
       "1337        1              1              0              0  \n",
       "\n",
       "[1338 rows x 13 columns]"
      ]
     },
     "execution_count": 15,
     "metadata": {},
     "output_type": "execute_result"
    }
   ],
   "source": [
    "data_encode"
   ]
  },
  {
   "cell_type": "markdown",
   "metadata": {},
   "source": [
    "----\n",
    "\n",
    "## Developing a Benchmark model: Multiple linear regression\n",
    "\n",
    "We will build a Linear regression model for Medical cost dataset. The dataset consists of age, sex, BMI(body mass index), children, smoker and region feature, which are independent and charge as a dependent feature.\n",
    "The target variable here is charges and remaining six variables such as age, sex, bmi, children, smoker, region are independent variable. There are multiple independent variable, so we need to fit Multiple linear regression."
   ]
  },
  {
   "cell_type": "markdown",
   "metadata": {
    "_uuid": "65f4f138c51925e2800d1ebcc3c10516958b543d"
   },
   "source": [
    "### Training and Testing\n"
   ]
  },
  {
   "cell_type": "code",
   "execution_count": 16,
   "metadata": {
    "_uuid": "7181ae4fff4e381c119ba2611a56bb8bc08a258c"
   },
   "outputs": [],
   "source": [
    "from sklearn.model_selection import train_test_split\n",
    "X = data_encode.drop('charges',axis=1) # Independet variable\n",
    "y = data_encode['charges'] # dependent variable\n",
    "\n",
    "X_train, X_test, y_train, y_test = train_test_split(X,y,test_size=0.2,random_state=23)"
   ]
  },
  {
   "cell_type": "markdown",
   "metadata": {},
   "source": [
    "### Model building: Multiple linear regression"
   ]
  },
  {
   "cell_type": "code",
   "execution_count": 17,
   "metadata": {},
   "outputs": [
    {
     "data": {
      "text/plain": [
       "LinearRegression()"
      ]
     },
     "execution_count": 17,
     "metadata": {},
     "output_type": "execute_result"
    }
   ],
   "source": [
    "from sklearn.linear_model import LinearRegression\n",
    "lin_reg = LinearRegression()\n",
    "lin_reg.fit(X_train,y_train)"
   ]
  },
  {
   "cell_type": "code",
   "execution_count": 18,
   "metadata": {},
   "outputs": [],
   "source": [
    "# Parameter\n",
    "columns = ['intersect:x_0=1'] + list(X.columns.values)\n",
    "coefficients = [lin_reg.intercept_]+list(lin_reg.coef_)\n",
    "parameter_df = pd.DataFrame({'Columns':columns})\n",
    "parameter_df = parameter_df.join(pd.Series(coefficients, name='coefficients'))"
   ]
  },
  {
   "cell_type": "code",
   "execution_count": 19,
   "metadata": {},
   "outputs": [
    {
     "data": {
      "text/html": [
       "<div>\n",
       "<style scoped>\n",
       "    .dataframe tbody tr th:only-of-type {\n",
       "        vertical-align: middle;\n",
       "    }\n",
       "\n",
       "    .dataframe tbody tr th {\n",
       "        vertical-align: top;\n",
       "    }\n",
       "\n",
       "    .dataframe thead th {\n",
       "        text-align: right;\n",
       "    }\n",
       "</style>\n",
       "<table border=\"1\" class=\"dataframe\">\n",
       "  <thead>\n",
       "    <tr style=\"text-align: right;\">\n",
       "      <th></th>\n",
       "      <th>Columns</th>\n",
       "      <th>coefficients</th>\n",
       "    </tr>\n",
       "  </thead>\n",
       "  <tbody>\n",
       "    <tr>\n",
       "      <th>0</th>\n",
       "      <td>intersect:x_0=1</td>\n",
       "      <td>7.052768</td>\n",
       "    </tr>\n",
       "    <tr>\n",
       "      <th>1</th>\n",
       "      <td>age</td>\n",
       "      <td>0.033265</td>\n",
       "    </tr>\n",
       "    <tr>\n",
       "      <th>2</th>\n",
       "      <td>bmi</td>\n",
       "      <td>0.013865</td>\n",
       "    </tr>\n",
       "    <tr>\n",
       "      <th>3</th>\n",
       "      <td>OHE_male</td>\n",
       "      <td>-0.067809</td>\n",
       "    </tr>\n",
       "    <tr>\n",
       "      <th>4</th>\n",
       "      <td>OHE_1</td>\n",
       "      <td>0.142511</td>\n",
       "    </tr>\n",
       "    <tr>\n",
       "      <th>5</th>\n",
       "      <td>OHE_2</td>\n",
       "      <td>0.278529</td>\n",
       "    </tr>\n",
       "    <tr>\n",
       "      <th>6</th>\n",
       "      <td>OHE_3</td>\n",
       "      <td>0.254834</td>\n",
       "    </tr>\n",
       "    <tr>\n",
       "      <th>7</th>\n",
       "      <td>OHE_4</td>\n",
       "      <td>0.500875</td>\n",
       "    </tr>\n",
       "    <tr>\n",
       "      <th>8</th>\n",
       "      <td>OHE_5</td>\n",
       "      <td>0.421956</td>\n",
       "    </tr>\n",
       "    <tr>\n",
       "      <th>9</th>\n",
       "      <td>OHE_yes</td>\n",
       "      <td>1.550229</td>\n",
       "    </tr>\n",
       "    <tr>\n",
       "      <th>10</th>\n",
       "      <td>OHE_northwest</td>\n",
       "      <td>-0.058329</td>\n",
       "    </tr>\n",
       "    <tr>\n",
       "      <th>11</th>\n",
       "      <td>OHE_southeast</td>\n",
       "      <td>-0.152056</td>\n",
       "    </tr>\n",
       "    <tr>\n",
       "      <th>12</th>\n",
       "      <td>OHE_southwest</td>\n",
       "      <td>-0.142247</td>\n",
       "    </tr>\n",
       "  </tbody>\n",
       "</table>\n",
       "</div>"
      ],
      "text/plain": [
       "            Columns  coefficients\n",
       "0   intersect:x_0=1      7.052768\n",
       "1               age      0.033265\n",
       "2               bmi      0.013865\n",
       "3          OHE_male     -0.067809\n",
       "4             OHE_1      0.142511\n",
       "5             OHE_2      0.278529\n",
       "6             OHE_3      0.254834\n",
       "7             OHE_4      0.500875\n",
       "8             OHE_5      0.421956\n",
       "9           OHE_yes      1.550229\n",
       "10    OHE_northwest     -0.058329\n",
       "11    OHE_southeast     -0.152056\n",
       "12    OHE_southwest     -0.142247"
      ]
     },
     "execution_count": 19,
     "metadata": {},
     "output_type": "execute_result"
    }
   ],
   "source": [
    "parameter_df"
   ]
  },
  {
   "cell_type": "markdown",
   "metadata": {},
   "source": [
    "### Implementation: Define a Performance Metric\n",
    "\n",
    "- Coefficient of determination \n",
    "\n",
    "\n",
    "This metric is denoted by $R^2$ and also called are “R squared”. R-squared is a statistical measure of how close the data are to the fitted regression line. This metric calculates the proportion of the variance in the dependent variable that is predictable from the independent variable(s). Best possible score is 1.0 and it can be negative (because the model can be arbitrarily worse). A constant model that always predicts the expected value of y, disregarding the input features, would get a R^2 score of 0.0.\n",
    "\n",
    "\n",
    "- Mean Square Error \n",
    "\n"
   ]
  },
  {
   "cell_type": "code",
   "execution_count": 20,
   "metadata": {},
   "outputs": [
    {
     "name": "stdout",
     "output_type": "stream",
     "text": [
      "mean_squared_error for Benchmark modell: 0.176738\n",
      "r2_score for Benchmark model: 0.720236\n"
     ]
    }
   ],
   "source": [
    "# sklearn regression module\n",
    "y_pred_based_model = lin_reg.predict(X_test)\n",
    "\n",
    "#Evaluvation: MSE\n",
    "from sklearn.metrics import mean_squared_error\n",
    "mse_based_model = mean_squared_error(y_pred_based_model, y_test)\n",
    "\n",
    "# r2_score\n",
    "from sklearn.metrics import r2_score\n",
    "r2_score_based_model = r2_score(y_pred_based_model, y_test)\n",
    "print (\"mean_squared_error for Benchmark modell: {:4f}\".format(mse_based_model))\n",
    "print (\"r2_score for Benchmark model: {:4f}\".format(r2_score_based_model))"
   ]
  },
  {
   "cell_type": "markdown",
   "metadata": {},
   "source": [
    "----\n",
    "\n",
    "## Machine learning model\n",
    "\n",
    "The Benchmark model returns $R^2$ value of 72%, so it fit our data test well, but still we can imporve the the performance of by diffirent technique. We will implement the other regression machine learning models discussed in the lectures and try to get a better result compared to our Benchmark model."
   ]
  },
  {
   "cell_type": "code",
   "execution_count": 21,
   "metadata": {
    "_uuid": "0202e464efbdbe2e7ad5e25938aed37c0f0a8181"
   },
   "outputs": [],
   "source": [
    "\n",
    "def train_predict_model(clf, X_train, y_train, X_test, y_test):\n",
    "    clf.fit(X_train, y_train)\n",
    "    y_pred = clf.predict(X_test)\n",
    "    mse_ = mean_squared_error(y_pred, y_test)\n",
    "    r2_score_ = r2_score(y_pred, y_test)\n",
    "    return np.array([mse_, r2_score_])\n",
    "    \n",
    "    "
   ]
  },
  {
   "cell_type": "code",
   "execution_count": 22,
   "metadata": {},
   "outputs": [
    {
     "data": {
      "text/html": [
       "<div>\n",
       "<style scoped>\n",
       "    .dataframe tbody tr th:only-of-type {\n",
       "        vertical-align: middle;\n",
       "    }\n",
       "\n",
       "    .dataframe tbody tr th {\n",
       "        vertical-align: top;\n",
       "    }\n",
       "\n",
       "    .dataframe thead th {\n",
       "        text-align: right;\n",
       "    }\n",
       "</style>\n",
       "<table border=\"1\" class=\"dataframe\">\n",
       "  <thead>\n",
       "    <tr style=\"text-align: right;\">\n",
       "      <th></th>\n",
       "      <th>mse</th>\n",
       "      <th>r2_score</th>\n",
       "    </tr>\n",
       "  </thead>\n",
       "  <tbody>\n",
       "    <tr>\n",
       "      <th>Linear Regression</th>\n",
       "      <td>0.176738</td>\n",
       "      <td>0.720236</td>\n",
       "    </tr>\n",
       "    <tr>\n",
       "      <th>Decision Tree Regressor</th>\n",
       "      <td>0.403980</td>\n",
       "      <td>0.546127</td>\n",
       "    </tr>\n",
       "    <tr>\n",
       "      <th>Random Forest Regressor</th>\n",
       "      <td>0.157851</td>\n",
       "      <td>0.797028</td>\n",
       "    </tr>\n",
       "    <tr>\n",
       "      <th>Support Vector Machine</th>\n",
       "      <td>0.553735</td>\n",
       "      <td>-0.521767</td>\n",
       "    </tr>\n",
       "    <tr>\n",
       "      <th>k-nearest neighbors</th>\n",
       "      <td>0.499407</td>\n",
       "      <td>-0.177502</td>\n",
       "    </tr>\n",
       "  </tbody>\n",
       "</table>\n",
       "</div>"
      ],
      "text/plain": [
       "                              mse  r2_score\n",
       "Linear Regression        0.176738  0.720236\n",
       "Decision Tree Regressor  0.403980  0.546127\n",
       "Random Forest Regressor  0.157851  0.797028\n",
       "Support Vector Machine   0.553735 -0.521767\n",
       "k-nearest neighbors      0.499407 -0.177502"
      ]
     },
     "execution_count": 22,
     "metadata": {},
     "output_type": "execute_result"
    }
   ],
   "source": [
    "from sklearn.svm import SVR # Support Vector Machine \n",
    "from sklearn.neighbors import KNeighborsRegressor  #Regression based on k-nearest neighbors.\n",
    "from sklearn.tree import DecisionTreeRegressor  # Decision Tree Regressor\n",
    "from sklearn.ensemble import RandomForestRegressor # Random Forest Regressor \n",
    "\n",
    "\n",
    "\n",
    "result_data = np.empty([5, 2])\n",
    "clf_based = LinearRegression()\n",
    "clf_a = DecisionTreeRegressor(random_state=1)\n",
    "clf_b = RandomForestRegressor(random_state = 42)\n",
    "clf_c = SVR()\n",
    "clf_d = KNeighborsRegressor()  \n",
    "row_name_lst = ['Linear Regression','Decision Tree Regressor', 'Random Forest Regressor','Support Vector Machine', 'k-nearest neighbors']\n",
    "col_name_lst = ['mse', 'r2_score']\n",
    "clf_lst = (clf_based, clf_a, clf_b, clf_c, clf_d)\n",
    "for i in range(len(clf_lst)) :\n",
    "    result_data[i,:] = train_predict_model(clf_lst[i],  X_train, y_train, X_test, y_test)\n",
    "result_df = pd.DataFrame(result_data, columns= col_name_lst, index = row_name_lst)\n",
    "result_df"
   ]
  },
  {
   "cell_type": "markdown",
   "metadata": {
    "_uuid": "a1a25a6002714a2a93865ef8e464afa32e793672"
   },
   "source": [
    "Multiple regression algorithms like Linear Regression(Benchmark model), decision trees, random forest, Support Vector Machines, k-nearest neighbors for regression are considered and compared based on the metrics.\n",
    "\n",
    "\n",
    "As we can see from the result table, Random Forest Regressor (mse: 15,78% and r2_score: 79,7%) has the best performance among these algorithms and this is a significant improvement compared to our benchmark model linear regression ((mse: 17,67% and r2_score: 72.02%). \n",
    "\n",
    "A random forest is an ensemble model that consists of many decision trees. Predictions are made by averaging the predictions of each decision tree. Or, to extend the analogy—much like a forest is a collection of trees, the random forest model is also a collection of decision tree models. This makes random forests a strong modeling technique that’s much more powerful than a single decision tree.\n",
    "\n",
    "\n",
    "In this case, the random forest regression algorithm can be more suitable for  this regression problem than other common and popular algorithms because \n",
    "\n",
    "- There are non-linear or complex relationships between features and labels.\n",
    "- The random forest algorithm is more robust than a single decision tree, as it uses a set of uncorrelated decision trees.\n",
    "- Random forest is a good choice to avoid overfitting.\n",
    "\n",
    "\n",
    " "
   ]
  },
  {
   "cell_type": "markdown",
   "metadata": {},
   "source": [
    "### So I choose to use random forest technique for this project and focus on optimizing the random forest model. \n",
    " \n",
    " In the case of a random forest, hyperparameters include the number of decision trees in the forest and the number of features considered by each tree when splitting a node. (The parameters of a random forest are the variables and thresholds used to split each node learned during training).\n",
    " \n",
    " The standard procedure for hyperparameter optimization accounts for overfitting through cross validation.\n",
    " \n",
    " Look at parameters used by our current forest"
   ]
  },
  {
   "cell_type": "code",
   "execution_count": 23,
   "metadata": {},
   "outputs": [
    {
     "name": "stdout",
     "output_type": "stream",
     "text": [
      "Parameters currently in use:\n",
      "\n",
      "{'bootstrap': True,\n",
      " 'ccp_alpha': 0.0,\n",
      " 'criterion': 'mse',\n",
      " 'max_depth': None,\n",
      " 'max_features': 'auto',\n",
      " 'max_leaf_nodes': None,\n",
      " 'max_samples': None,\n",
      " 'min_impurity_decrease': 0.0,\n",
      " 'min_impurity_split': None,\n",
      " 'min_samples_leaf': 1,\n",
      " 'min_samples_split': 2,\n",
      " 'min_weight_fraction_leaf': 0.0,\n",
      " 'n_estimators': 100,\n",
      " 'n_jobs': None,\n",
      " 'oob_score': False,\n",
      " 'random_state': 42,\n",
      " 'verbose': 0,\n",
      " 'warm_start': False}\n"
     ]
    }
   ],
   "source": [
    "rf = clf_b\n",
    "from pprint import pprint\n",
    "\n",
    "\n",
    "print('Parameters currently in use:\\n')\n",
    "pprint(rf.get_params())"
   ]
  },
  {
   "cell_type": "markdown",
   "metadata": {},
   "source": [
    "### The most important settings are \n",
    "- the number of trees in the forest (n_estimators) \n",
    "- the number of features considered for splitting at each leaf node (max_features)\n",
    "\n",
    "\n",
    "We will try adjusting the following set of hyperparameters:\n",
    "- n_estimators = number of trees in the foreset\n",
    "- max_features = max number of features considered for splitting a node\n",
    "- max_depth = max number of levels in each decision tree\n",
    "- min_samples_split = min number of data points placed in a node before the node is split\n",
    "- min_samples_leaf = min number of data points allowed in a leaf node\n",
    "- bootstrap = method for sampling data points (with or without replacement)"
   ]
  },
  {
   "cell_type": "markdown",
   "metadata": {},
   "source": [
    "### Create a parameter grid to sample from during fitting to use RandomizedSearchCV"
   ]
  },
  {
   "cell_type": "code",
   "execution_count": 24,
   "metadata": {},
   "outputs": [
    {
     "name": "stdout",
     "output_type": "stream",
     "text": [
      "{'bootstrap': [True, False],\n",
      " 'max_depth': [70, 80, 90, 100, 110, None],\n",
      " 'max_features': ['auto', 'sqrt'],\n",
      " 'min_samples_leaf': [1, 2, 4],\n",
      " 'min_samples_split': [16, 18, 20],\n",
      " 'n_estimators': [1800, 1900, 2000, 2100, 2200]}\n"
     ]
    }
   ],
   "source": [
    "from sklearn.model_selection import RandomizedSearchCV\n",
    "# Number of trees in random forest\n",
    "n_estimators = [int(x) for x in np.linspace(start = 1800, stop = 2200, num = 5)]\n",
    "# Number of features to consider at every split\n",
    "max_features = ['auto', 'sqrt']\n",
    "# Maximum number of levels in tree\n",
    "max_depth = [int(x) for x in np.linspace(70, 110, num = 5)]\n",
    "max_depth.append(None)\n",
    "# Minimum number of samples required to split a node\n",
    "min_samples_split = [16, 18, 20]\n",
    "# Minimum number of samples required at each leaf node\n",
    "min_samples_leaf = [1, 2, 4]\n",
    "# Method of selecting samples for training each tree\n",
    "bootstrap = [True, False]\n",
    "# Create the random grid\n",
    "random_grid = {'n_estimators': n_estimators,\n",
    "               'max_features': max_features,\n",
    "               'max_depth': max_depth,\n",
    "               'min_samples_split': min_samples_split,\n",
    "               'min_samples_leaf': min_samples_leaf,\n",
    "               'bootstrap': bootstrap}\n",
    "pprint(random_grid)"
   ]
  },
  {
   "cell_type": "markdown",
   "metadata": {},
   "source": [
    "On each iteration, the algorithm will choose a difference combination of the features. The benefit of a random search is that we are not trying every combination, but selecting at random to sample a wide range of values. \n",
    "### Random Search Training\n",
    " Use the random grid to search for best hyperparameters. Random search of parameters, using 3 fold cross validation, search across 100 different combinations, and use all available cores\n"
   ]
  },
  {
   "cell_type": "code",
   "execution_count": 25,
   "metadata": {},
   "outputs": [
    {
     "name": "stdout",
     "output_type": "stream",
     "text": [
      "Fitting 3 folds for each of 100 candidates, totalling 300 fits\n"
     ]
    },
    {
     "data": {
      "text/plain": [
       "RandomizedSearchCV(cv=3, estimator=RandomForestRegressor(), n_iter=100,\n",
       "                   n_jobs=-1,\n",
       "                   param_distributions={'bootstrap': [True, False],\n",
       "                                        'max_depth': [70, 80, 90, 100, 110,\n",
       "                                                      None],\n",
       "                                        'max_features': ['auto', 'sqrt'],\n",
       "                                        'min_samples_leaf': [1, 2, 4],\n",
       "                                        'min_samples_split': [16, 18, 20],\n",
       "                                        'n_estimators': [1800, 1900, 2000, 2100,\n",
       "                                                         2200]},\n",
       "                   random_state=42, verbose=2)"
      ]
     },
     "execution_count": 25,
     "metadata": {},
     "output_type": "execute_result"
    }
   ],
   "source": [
    "rf = RandomForestRegressor()\n",
    "rf_random = RandomizedSearchCV(estimator = rf, param_distributions = random_grid, n_iter = 100, cv = 3, verbose=2, random_state=42, n_jobs = -1)\n",
    "# Fit the random search model\n",
    "rf_random.fit(X_train, y_train)"
   ]
  },
  {
   "cell_type": "code",
   "execution_count": 27,
   "metadata": {},
   "outputs": [
    {
     "data": {
      "text/plain": [
       "{'n_estimators': 2000,\n",
       " 'min_samples_split': 20,\n",
       " 'min_samples_leaf': 2,\n",
       " 'max_features': 'auto',\n",
       " 'max_depth': None,\n",
       " 'bootstrap': True}"
      ]
     },
     "execution_count": 27,
     "metadata": {},
     "output_type": "execute_result"
    }
   ],
   "source": [
    "best_random = rf_random.best_estimator_\n",
    "rf_random.best_params_"
   ]
  },
  {
   "cell_type": "code",
   "execution_count": 28,
   "metadata": {},
   "outputs": [],
   "source": [
    "random_search_training_mse,random_search_training_r2_score = train_predict_model(best_random,\n",
    "                                                                                 X_train, y_train, X_test, y_test)"
   ]
  },
  {
   "cell_type": "code",
   "execution_count": 29,
   "metadata": {},
   "outputs": [
    {
     "name": "stdout",
     "output_type": "stream",
     "text": [
      "mean_squared_error for Random Search Training modell: 0.137425\n",
      "r2_score for Random Search Training model: 0.814133\n"
     ]
    }
   ],
   "source": [
    "print (\"mean_squared_error for Random Search Training modell: {:4f}\".format(random_search_training_mse))\n",
    "print (\"r2_score for Random Search Training model: {:4f}\".format(random_search_training_r2_score))"
   ]
  },
  {
   "cell_type": "markdown",
   "metadata": {},
   "source": [
    "as we see, the random grid does help us to search for the better hyperparameters and the result is improved (mse: 13,74% and r2_score: 81,41%) in compare to the result before (mse: 15,78% and r2_score: 79,7%)"
   ]
  },
  {
   "cell_type": "markdown",
   "metadata": {},
   "source": [
    "# Grid Search with Cross Validation\n",
    "Random search allowed us to narrow down the range for each hyperparameter. Now that we know where to concentrate our search, we can explicitly specify every combination of settings to try. We do this with GridSearchCV, a method that, instead of sampling randomly from a distribution, evaluates all combinations we define.\n",
    "Create the parameter grid based on the results of random search."
   ]
  },
  {
   "cell_type": "code",
   "execution_count": 31,
   "metadata": {},
   "outputs": [],
   "source": [
    "from sklearn.model_selection import GridSearchCV\n",
    "\n",
    "param_grid = {\n",
    "    'bootstrap': [True],\n",
    "    'max_depth': [None],\n",
    "    'max_features': ['auto'],\n",
    "    'min_samples_leaf': [1,2,3],\n",
    "    'min_samples_split': [21, 25, 27],\n",
    "    'n_estimators': [ 1950, 2000, 2100]\n",
    "}\n",
    "\n",
    "rf = RandomForestRegressor()\n",
    "grid_search = GridSearchCV(estimator = rf, param_grid = param_grid, \n",
    "                          cv = 3, n_jobs = -1, verbose = 2)"
   ]
  },
  {
   "cell_type": "code",
   "execution_count": 32,
   "metadata": {},
   "outputs": [
    {
     "name": "stdout",
     "output_type": "stream",
     "text": [
      "Fitting 3 folds for each of 27 candidates, totalling 81 fits\n"
     ]
    },
    {
     "data": {
      "text/plain": [
       "{'bootstrap': True,\n",
       " 'max_depth': None,\n",
       " 'max_features': 'auto',\n",
       " 'min_samples_leaf': 2,\n",
       " 'min_samples_split': 21,\n",
       " 'n_estimators': 2000}"
      ]
     },
     "execution_count": 32,
     "metadata": {},
     "output_type": "execute_result"
    }
   ],
   "source": [
    "# Fit the grid search to the data\n",
    "grid_search.fit(X_train, y_train)\n",
    "grid_search.best_params_"
   ]
  },
  {
   "cell_type": "code",
   "execution_count": 33,
   "metadata": {},
   "outputs": [],
   "source": [
    "best_grid = grid_search.best_estimator_\n",
    "grid_mse, grid_r2_score = train_predict_model(best_grid,  X_train, y_train, X_test, y_test)"
   ]
  },
  {
   "cell_type": "code",
   "execution_count": 34,
   "metadata": {},
   "outputs": [
    {
     "name": "stdout",
     "output_type": "stream",
     "text": [
      "mean_squared_error for GridSearchCV modell: 0.137330\n",
      "r2_score for GridSearchCV model: 0.814193\n"
     ]
    }
   ],
   "source": [
    "print (\"mean_squared_error for GridSearchCV modell: {:4f}\".format(grid_mse))\n",
    "print (\"r2_score for GridSearchCV model: {:4f}\".format(grid_r2_score))"
   ]
  },
  {
   "cell_type": "markdown",
   "metadata": {},
   "source": [
    "As we can see, the grid search with cross-validation does not significantly improve our result, but there is still a slightly better result in mse. \n",
    "# Plot the result "
   ]
  },
  {
   "cell_type": "code",
   "execution_count": 41,
   "metadata": {},
   "outputs": [],
   "source": [
    "def plot_result(true_value, predicted_value):\n",
    "    plt.figure(figsize=(10,10))\n",
    "    plt.scatter(true_value, predicted_value, c='crimson')\n",
    "    plt.yscale('log')\n",
    "    plt.xscale('log')\n",
    "\n",
    "    p1 = max(max(predicted_value), max(true_value))\n",
    "    p2 = min(min(predicted_value), min(true_value))\n",
    "    plt.plot([p1, p2], [p1, p2], 'b-')\n",
    "    plt.xlabel('True Values', fontsize=15)\n",
    "    plt.ylabel('Predictions', fontsize=15)\n",
    "    plt.axis('equal')\n",
    "    plt.show()\n"
   ]
  },
  {
   "cell_type": "markdown",
   "metadata": {},
   "source": [
    "### the benchmark model"
   ]
  },
  {
   "cell_type": "code",
   "execution_count": 43,
   "metadata": {},
   "outputs": [
    {
     "data": {
      "image/png": "[encoded data removed]",
      "text/plain": [
       "<Figure size 720x720 with 1 Axes>"
      ]
     },
     "metadata": {
      "needs_background": "light"
     },
     "output_type": "display_data"
    }
   ],
   "source": [
    "plot_result(true_value, clf_based.predict(X_test))"
   ]
  },
  {
   "cell_type": "markdown",
   "metadata": {},
   "source": [
    "### Our final ML model"
   ]
  },
  {
   "cell_type": "code",
   "execution_count": 44,
   "metadata": {},
   "outputs": [
    {
     "data": {
      "image/png": "[encoded data removed]",
      "text/plain": [
       "<Figure size 720x720 with 1 Axes>"
      ]
     },
     "metadata": {
      "needs_background": "light"
     },
     "output_type": "display_data"
    }
   ],
   "source": [
    "plot_result(true_value, best_grid.predict(X_test))"
   ]
  },
  {
   "cell_type": "markdown",
   "metadata": {},
   "source": [
    "\n",
    "\n",
    "It is quite clear that our machine learning model performs much better than the benchmark model.  Nevertheless, we were able to improve our model significantly with hyperparameter tuning and feature engineering. \n",
    "\n",
    "\n",
    "\n"
   ]
  }
 ],
 "metadata": {
  "anaconda-cloud": {},
  "kernelspec": {
   "display_name": "Python 3",
   "language": "python",
   "name": "python3"
  },
  "language_info": {
   "codemirror_mode": {
    "name": "ipython",
    "version": 3
   },
   "file_extension": ".py",
   "mimetype": "text/x-python",
   "name": "python",
   "nbconvert_exporter": "python",
   "pygments_lexer": "ipython3",
   "version": "3.9.4"
  }
 },
 "nbformat": 4,
 "nbformat_minor": 4
}
